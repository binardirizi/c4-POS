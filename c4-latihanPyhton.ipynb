{
 "cells": [
  {
   "cell_type": "code",
   "execution_count": 17,
   "id": "439c1a2c",
   "metadata": {},
   "outputs": [
    {
     "name": "stdout",
     "output_type": "stream",
     "text": [
      "=========================================\n",
      "===============Aplikasi KTP==============\n",
      "Nama              :  Binardi Rizi\n",
      "Tempat/Tgl Lahir  :  Pemangkat, 15-10-1997\n",
      "Jenis Kelamin     :  Laki-laki\n",
      "Alamat            :  \n",
      "                    Dusun Pelaik\n",
      "                    RT/RW 003/003\n",
      "                    Desa Singa Raya\n",
      "                    Kecamatan Semparuk\n",
      "        \n",
      "Agama             :  Islam\n",
      "Status Perkawinan :  Belum Kawin\n",
      "Pekerjaan         :  Pegawai Negeri Sipil\n",
      "Kewarganegaraan   :  WNI\n",
      "Berlaku Hingga    :  Seumur Hidup\n",
      "=========================================\n"
     ]
    }
   ],
   "source": [
    "nama   = \"Binardi Rizi\"\n",
    "ttl    = \"Pemangkat, 15-10-1997\"\n",
    "jenisKelamin = \"Laki-laki\"\n",
    "alamat = \"\"\"\n",
    "                    Dusun Pelaik\n",
    "                    RT/RW 003/003\n",
    "                    Desa Singa Raya\n",
    "                    Kecamatan Semparuk\n",
    "        \"\"\"\n",
    "agama = \"Islam\"\n",
    "perkawinan = False\n",
    "pekerjaan = \"Pegawai Negeri Sipil\"\n",
    "kewarganegaraan = \"WNI\"\n",
    "berlaku = \"Seumur Hidup\"\n",
    "# mencetak isi variabel\n",
    "print(\"=========================================\")\n",
    "print(\"===============Aplikasi KTP==============\")\n",
    "print (\"Nama              : \", nama)\n",
    "print (\"Tempat/Tgl Lahir  : \", ttl)\n",
    "print (\"Jenis Kelamin     : \", jenisKelamin)\n",
    "print (\"Alamat            : \", alamat)\n",
    "print (\"Agama             : \", agama)\n",
    "if(perkawinan):\n",
    "    print (\"Status Perkawinan :  Kawin \")\n",
    "else:\n",
    "    print (\"Status Perkawinan :  Belum Kawin\")\n",
    "print (\"Pekerjaan         : \", pekerjaan)\n",
    "print (\"Kewarganegaraan   : \", kewarganegaraan)\n",
    "print (\"Berlaku Hingga    : \", berlaku)\n",
    "print(\"=========================================\")"
   ]
  },
  {
   "cell_type": "code",
   "execution_count": 18,
   "id": "cc7fb428",
   "metadata": {},
   "outputs": [
    {
     "name": "stdout",
     "output_type": "stream",
     "text": [
      "=========================================\n",
      "===============Aplikasi SIM==============\n",
      "Nama              :  Binardi Rizi\n",
      "Tempat/Tgl Lahir  :  Pemangkat, 15-10-1997\n",
      "Jenis Kelamin     :  Pria\n",
      "Alamat            :  \n",
      "                    Dusun Pelaik\n",
      "                    RT/RW 003/003\n",
      "                    Desa Singa Raya\n",
      "                    Kecamatan Semparuk\n",
      "        \n",
      "Polda             :  Kalbar\n",
      "Berlaku Hingga    :  22-03-2026\n",
      "=========================================\n"
     ]
    }
   ],
   "source": [
    "nama   = \"Binardi Rizi\"\n",
    "ttl    = \"Pemangkat, 15-10-1997\"\n",
    "jenisKelamin = \"Pria\"\n",
    "alamat = \"\"\"\n",
    "                    Dusun Pelaik\n",
    "                    RT/RW 003/003\n",
    "                    Desa Singa Raya\n",
    "                    Kecamatan Semparuk\n",
    "        \"\"\"\n",
    "pekerjaan = \"Pegawai Negeri Sipil\"\n",
    "polda = \"Kalbar\"\n",
    "berlaku = \"22-03-2026\"\n",
    "# mencetak isi variabel\n",
    "print(\"=========================================\")\n",
    "print(\"===============Aplikasi SIM==============\")\n",
    "print (\"Nama              : \", nama)\n",
    "print (\"Tempat/Tgl Lahir  : \", ttl)\n",
    "print (\"Jenis Kelamin     : \", jenisKelamin)\n",
    "print (\"Alamat            : \", alamat)\n",
    "print (\"Polda             : \", polda)\n",
    "print (\"Berlaku Hingga    : \", berlaku)\n",
    "print(\"=========================================\")"
   ]
  },
  {
   "cell_type": "code",
   "execution_count": 39,
   "id": "c29cd26a",
   "metadata": {},
   "outputs": [
    {
     "name": "stdout",
     "output_type": "stream",
     "text": [
      "======================================================================\n",
      "===========================Curriculume Vitae==========================\n",
      "Nama                      :  Binardi Rizi\n",
      "Tempat/Tgl Lahir          :  Pemangkat, 15-10-1997\n",
      "Jenis Kelamin             :  Pria\n",
      "Alamat                    :  \n",
      "                             Dusun Pelaik\n",
      "                             RT/RW 003/003\n",
      "                             Desa Singa Raya\n",
      "                             Kecamatan Semparuk\n",
      "        \n",
      "Pendidikan Formal         :  \n",
      "                             SDN 02 Gersik\n",
      "                             MTsN Semparuk\n",
      "                             SMAN 1 Pemangkat\n",
      "                    \n",
      "Pendidikan Non-Formal     :  Tidak Ada\n",
      "Organisasi/Ektra Kurikuler :  Pramuka\n",
      "Pengalaman Kerja          :  Tidak Ada\n",
      "Prestasi/Penghargaan      :  \n",
      "                             1. Juara 2 O2SN Tingkat Kabupaten Sambas\n",
      "                             2. Juara 4 LKTI Tingkat Kabupaten Sambas\n",
      "            \n",
      "======================================================================\n"
     ]
    }
   ],
   "source": [
    "nama   = \"Binardi Rizi\"\n",
    "ttl    = \"Pemangkat, 15-10-1997\"\n",
    "jenisKelamin = \"Pria\"\n",
    "alamat = \"\"\"\n",
    "                             Dusun Pelaik\n",
    "                             RT/RW 003/003\n",
    "                             Desa Singa Raya\n",
    "                             Kecamatan Semparuk\n",
    "        \"\"\"\n",
    "pekerjaan = \"Pegawai Negeri Sipil\"\n",
    "pendidikanFormal = \"\"\"\n",
    "                             SDN 02 Gersik\n",
    "                             MTsN Semparuk\n",
    "                             SMAN 1 Pemangkat\n",
    "                    \"\"\"\n",
    "pendidikanNonformal = False\n",
    "organisasi = \"Pramuka\"\n",
    "pengalamanKerja = False\n",
    "prestasi = \"\"\"\n",
    "                             1. Juara 2 O2SN Tingkat Kabupaten Sambas\n",
    "                             2. Juara 4 LKTI Tingkat Kabupaten Sambas\n",
    "            \"\"\"\n",
    "# mencetak isi variabel\n",
    "print(\"======================================================================\")\n",
    "print(\"===========================Curriculume Vitae==========================\")\n",
    "print (\"Nama                      : \", nama)\n",
    "print (\"Tempat/Tgl Lahir          : \", ttl)\n",
    "print (\"Jenis Kelamin             : \", jenisKelamin)\n",
    "print (\"Alamat                    : \", alamat)\n",
    "print (\"Pendidikan Formal         : \", pendidikanFormal)\n",
    "if(pendidikanNonformal):\n",
    "    print (\"Pendidikan Non-Formal     :  Ada \")\n",
    "else:\n",
    "    print (\"Pendidikan Non-Formal     :  Tidak Ada\")\n",
    "print (\"Organisasi/Ektra Kurikuler : \", organisasi)\n",
    "if(pengalamanKerja):\n",
    "    print (\"Pengalaman Kerja          :  Ada \")\n",
    "else:\n",
    "    print (\"Pengalaman Kerja          :  Tidak Ada\")\n",
    "print (\"Prestasi/Penghargaan      : \", prestasi)\n",
    "print(\"======================================================================\")"
   ]
  },
  {
   "cell_type": "code",
   "execution_count": null,
   "id": "591314ac",
   "metadata": {},
   "outputs": [],
   "source": []
  },
  {
   "cell_type": "code",
   "execution_count": null,
   "id": "0d11c5cb",
   "metadata": {},
   "outputs": [],
   "source": []
  }
 ],
 "metadata": {
  "kernelspec": {
   "display_name": "Python 3",
   "language": "python",
   "name": "python3"
  },
  "language_info": {
   "codemirror_mode": {
    "name": "ipython",
    "version": 3
   },
   "file_extension": ".py",
   "mimetype": "text/x-python",
   "name": "python",
   "nbconvert_exporter": "python",
   "pygments_lexer": "ipython3",
   "version": "3.8.8"
  }
 },
 "nbformat": 4,
 "nbformat_minor": 5
}
